{
 "cells": [
  {
   "cell_type": "code",
   "execution_count": 19,
   "id": "752eece8",
   "metadata": {},
   "outputs": [],
   "source": [
    "import csv\n",
    "import re\n",
    "\n",
    "input_file = open('top250-00-19.csv', 'r')\n",
    "output_file = open('top250-00-19_modified.csv', 'w')\n",
    "data = csv.reader(input_file)\n",
    "writer = csv.writer(output_file)\n",
    "\n",
    "next(data,None)\n",
    "for line in data:\n",
    "    line = [value.replace('\"', '') for value in line]\n",
    "    line = [value.replace(',', '') for value in line]\n",
    "    line = [value.replace(';', '') for value in line]\n",
    "    line = [value.replace('-', ' ') for value in line]\n",
    "    line = [re.sub(r\"^\\d\\.\\s?\", '', value) for value in line]\n",
    "    line = [value.replace('\\n', '').strip() for value in line]\n",
    "    line = [value.replace('\\'', '') for value in line]\n",
    "    line = [value.replace('NA', '') for value in line]\n",
    "    writer.writerow(line)\n",
    "    \n",
    "input_file.close()\n",
    "output_file.close()"
   ]
  },
  {
   "cell_type": "code",
   "execution_count": null,
   "id": "ff8c022a",
   "metadata": {},
   "outputs": [],
   "source": []
  }
 ],
 "metadata": {
  "kernelspec": {
   "display_name": "Python 3",
   "language": "python",
   "name": "python3"
  },
  "language_info": {
   "codemirror_mode": {
    "name": "ipython",
    "version": 3
   },
   "file_extension": ".py",
   "mimetype": "text/x-python",
   "name": "python",
   "nbconvert_exporter": "python",
   "pygments_lexer": "ipython3",
   "version": "3.8.8"
  }
 },
 "nbformat": 4,
 "nbformat_minor": 5
}
